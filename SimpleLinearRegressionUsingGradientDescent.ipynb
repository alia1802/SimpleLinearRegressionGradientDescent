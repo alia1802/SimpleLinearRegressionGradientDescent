{
 "cells": [
  {
   "cell_type": "markdown",
   "id": "9d4de4b2",
   "metadata": {},
   "source": [
    "Name: Alia Ibrahim Bandarkar\n",
    "PRN NO: 2030331245007"
   ]
  },
  {
   "cell_type": "code",
   "execution_count": 1,
   "id": "e104cd61",
   "metadata": {},
   "outputs": [],
   "source": [
    "import pandas as pd\n",
    "import numpy as np\n",
    "import matplotlib.pyplot as plt\n",
    "import seaborn as sns\n",
    "df=pd.read_csv\n",
    "\n",
    "df=pd.read_csv('AttendanceMarksSA.csv')"
   ]
  },
  {
   "cell_type": "code",
   "execution_count": 2,
   "id": "3ffa95d5",
   "metadata": {},
   "outputs": [
    {
     "data": {
      "text/html": [
       "<div>\n",
       "<style scoped>\n",
       "    .dataframe tbody tr th:only-of-type {\n",
       "        vertical-align: middle;\n",
       "    }\n",
       "\n",
       "    .dataframe tbody tr th {\n",
       "        vertical-align: top;\n",
       "    }\n",
       "\n",
       "    .dataframe thead th {\n",
       "        text-align: right;\n",
       "    }\n",
       "</style>\n",
       "<table border=\"1\" class=\"dataframe\">\n",
       "  <thead>\n",
       "    <tr style=\"text-align: right;\">\n",
       "      <th></th>\n",
       "      <th>Attendance</th>\n",
       "      <th>MSE</th>\n",
       "      <th>ESE</th>\n",
       "    </tr>\n",
       "  </thead>\n",
       "  <tbody>\n",
       "    <tr>\n",
       "      <th>0</th>\n",
       "      <td>70</td>\n",
       "      <td>10</td>\n",
       "      <td>42</td>\n",
       "    </tr>\n",
       "    <tr>\n",
       "      <th>1</th>\n",
       "      <td>92</td>\n",
       "      <td>7</td>\n",
       "      <td>39</td>\n",
       "    </tr>\n",
       "    <tr>\n",
       "      <th>2</th>\n",
       "      <td>67</td>\n",
       "      <td>3</td>\n",
       "      <td>32</td>\n",
       "    </tr>\n",
       "    <tr>\n",
       "      <th>3</th>\n",
       "      <td>82</td>\n",
       "      <td>16</td>\n",
       "      <td>50</td>\n",
       "    </tr>\n",
       "    <tr>\n",
       "      <th>4</th>\n",
       "      <td>80</td>\n",
       "      <td>9</td>\n",
       "      <td>44</td>\n",
       "    </tr>\n",
       "  </tbody>\n",
       "</table>\n",
       "</div>"
      ],
      "text/plain": [
       "   Attendance  MSE  ESE\n",
       "0          70   10   42\n",
       "1          92    7   39\n",
       "2          67    3   32\n",
       "3          82   16   50\n",
       "4          80    9   44"
      ]
     },
     "execution_count": 2,
     "metadata": {},
     "output_type": "execute_result"
    }
   ],
   "source": [
    "df.head()"
   ]
  },
  {
   "cell_type": "code",
   "execution_count": 3,
   "id": "bae76db9",
   "metadata": {},
   "outputs": [
    {
     "name": "stderr",
     "output_type": "stream",
     "text": [
      "C:\\Users\\Admin\\anaconda3\\lib\\site-packages\\seaborn\\_decorators.py:36: FutureWarning: Pass the following variables as keyword args: x, y. From version 0.12, the only valid positional argument will be `data`, and passing other arguments without an explicit keyword will result in an error or misinterpretation.\n",
      "  warnings.warn(\n"
     ]
    },
    {
     "data": {
      "text/plain": [
       "<AxesSubplot:xlabel='MSE', ylabel='ESE'>"
      ]
     },
     "execution_count": 3,
     "metadata": {},
     "output_type": "execute_result"
    },
    {
     "data": {
      "image/png": "[encoded data removed]",
      "text/plain": [
       "<Figure size 432x288 with 1 Axes>"
      ]
     },
     "metadata": {
      "needs_background": "light"
     },
     "output_type": "display_data"
    }
   ],
   "source": [
    "X=df['MSE']\n",
    "Y=df['ESE']\n",
    "sns.scatterplot(X,Y)"
   ]
  },
  {
   "cell_type": "code",
   "execution_count": 5,
   "id": "f1f9aa55",
   "metadata": {},
   "outputs": [],
   "source": [
    "beta0=0\n",
    "beta1=0\n",
    "alpha=0.01\n",
    "count=10000\n",
    "n=float(len(X))"
   ]
  },
  {
   "cell_type": "code",
   "execution_count": 7,
   "id": "4e8a5e11",
   "metadata": {},
   "outputs": [
    {
     "name": "stdout",
     "output_type": "stream",
     "text": [
      "30.666351557734057 1.6321517235115024\n"
     ]
    }
   ],
   "source": [
    "for i in range(count):\n",
    "    Ybar=beta1*X+beta0\n",
    "    beta1=beta1-(alpha/n)*sum(X*(Ybar-Y))\n",
    "    beta0=beta0-(alpha/n)*sum(Ybar-Y)\n",
    "    \n",
    "print(beta0,beta1)"
   ]
  },
  {
   "cell_type": "markdown",
   "id": "8cee8a92",
   "metadata": {},
   "source": [
    "# plotting the identified best fit line or regression line visually"
   ]
  },
  {
   "cell_type": "code",
   "execution_count": 9,
   "id": "4b1df04e",
   "metadata": {},
   "outputs": [
    {
     "data": {
      "text/plain": [
       "[<matplotlib.lines.Line2D at 0x23e8e488a90>]"
      ]
     },
     "execution_count": 9,
     "metadata": {},
     "output_type": "execute_result"
    },
    {
     "data": {
      "image/png": "[encoded data removed]",
      "text/plain": [
       "<Figure size 432x288 with 1 Axes>"
      ]
     },
     "metadata": {
      "needs_background": "light"
     },
     "output_type": "display_data"
    }
   ],
   "source": [
    "Ybar=beta1*X+beta0\n",
    "\n",
    "plt.scatter(X,Y)\n",
    "plt.plot([min(X),max(X)],[min(Ybar),max(Ybar)],color='red')"
   ]
  },
  {
   "cell_type": "markdown",
   "id": "80b78e25",
   "metadata": {},
   "source": [
    "# finding standard error"
   ]
  },
  {
   "cell_type": "code",
   "execution_count": 11,
   "id": "9020bac1",
   "metadata": {},
   "outputs": [
    {
     "name": "stdout",
     "output_type": "stream",
     "text": [
      "4.396224549647795\n"
     ]
    }
   ],
   "source": [
    "import math\n",
    "def RSE(y_true, y_predicted):\n",
    "   \n",
    "    y_true = np.array(y_true)\n",
    "    y_predicted = np.array(y_predicted)\n",
    "    RSS = np.sum(np.square(y_true - y_predicted))\n",
    "\n",
    "    rse = math.sqrt(RSS / (len(y_true) - 2))\n",
    "    return rse\n",
    "\n",
    "\n",
    "rse= RSE(df['ESE'],Ybar)\n",
    "print(rse)"
   ]
  },
  {
   "cell_type": "markdown",
   "id": "ca1215e9",
   "metadata": {},
   "source": [
    "# using LinearRegression class"
   ]
  },
  {
   "cell_type": "code",
   "execution_count": 12,
   "id": "8b9ff871",
   "metadata": {},
   "outputs": [],
   "source": [
    "from sklearn.model_selection import train_test_split\n",
    "from sklearn.linear_model import LinearRegression"
   ]
  },
  {
   "cell_type": "code",
   "execution_count": null,
   "id": "058473c4",
   "metadata": {},
   "outputs": [],
   "source": []
  },
  {
   "cell_type": "code",
   "execution_count": 13,
   "id": "43e8b8b4",
   "metadata": {},
   "outputs": [
    {
     "name": "stdout",
     "output_type": "stream",
     "text": [
      "[[1.63215164]]\n",
      "[30.66635246]\n",
      "4.396224549647787\n"
     ]
    }
   ],
   "source": [
    "x = np.array(df['MSE']).reshape(-1,1)\n",
    "y = np.array(df['ESE']).reshape(-1,1)\n",
    " \n",
    "\n",
    "lr = LinearRegression()\n",
    "lr.fit(x,y)\n",
    "\n",
    "\n",
    "print(lr.coef_)\n",
    "print(lr.intercept_)\n",
    "\n",
    "yp = lr.predict(x)\n",
    "rse = RSE(y,yp)\n",
    "\n",
    "print(rse)"
   ]
  },
  {
   "cell_type": "code",
   "execution_count": 14,
   "id": "939d9323",
   "metadata": {},
   "outputs": [
    {
     "name": "stdout",
     "output_type": "stream",
     "text": [
      "[[1.63215164]]\n",
      "[30.66635246]\n",
      "4.396224549647787\n"
     ]
    }
   ],
   "source": [
    "x = np.array(df['MSE']).reshape(-1,1)\n",
    "y = np.array(df['ESE']).reshape(-1,1)\n",
    " \n",
    "\n",
    "lr = LinearRegression()\n",
    "lr.fit(x,y)\n",
    "\n",
    "\n",
    "print(lr.coef_)\n",
    "print(lr.intercept_)\n",
    "\n",
    "yp = lr.predict(x)\n",
    "rse = RSE(y,yp)\n",
    "\n",
    "print(rse)"
   ]
  },
  {
   "cell_type": "code",
   "execution_count": null,
   "id": "411f5b91",
   "metadata": {},
   "outputs": [],
   "source": []
  }
 ],
 "metadata": {
  "kernelspec": {
   "display_name": "Python 3",
   "language": "python",
   "name": "python3"
  },
  "language_info": {
   "codemirror_mode": {
    "name": "ipython",
    "version": 3
   },
   "file_extension": ".py",
   "mimetype": "text/x-python",
   "name": "python",
   "nbconvert_exporter": "python",
   "pygments_lexer": "ipython3",
   "version": "3.8.8"
  }
 },
 "nbformat": 4,
 "nbformat_minor": 5
}
